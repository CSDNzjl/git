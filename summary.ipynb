{
 "cells": [
  {
   "cell_type": "code",
   "execution_count": null,
   "metadata": {
    "vscode": {
     "languageId": "cpp"
    }
   },
   "outputs": [],
   "source": [
    "/*goto语句注意事项*/\n",
    "/*一般也不会使用goto语句*/\n",
    "#include <stdio.h>\n",
    "\n",
    "int main() {\n",
    "    goto label; // 错误：goto语句不能跳过变量的实例化\n",
    "    int a = 10;\n",
    "    label:\n",
    "    return 0;\n",
    "}\n",
    "\n",
    "int main() {\n",
    "    goto label; //正确，a的作用域被限制在代码块内部，不会影响外部作用域\n",
    "    {\n",
    "        int a = 10;\n",
    "    }\n",
    "    label:\n",
    "    return 0;\n",
    "}"
   ]
  },
  {
   "cell_type": "code",
   "execution_count": null,
   "metadata": {
    "vscode": {
     "languageId": "cpp"
    }
   },
   "outputs": [],
   "source": [
    "/*函数的默认值参数位置注意事项*/\n",
    "#include <iostream>\n",
    "using namespace std;\n",
    "void try_(int z,int y,int x=1);\n",
    "int main()\n",
    "{\n",
    "    system(\"pause\");\n",
    "    return 0;\n",
    "}\n",
    "void try_(int z,int y,int x=1)\n",
    "{\n",
    "    NULL;\n",
    "}\n",
    "\n",
    "#include <iostream>\n",
    "using namespace std;\n",
    "void try_(int x=1,int z,int y);//默认值参数位置放在左方会出现调用的二义性try_(2，3)不知道是哪些变量的赋值\n",
    "int main()\n",
    "{\n",
    "    system(\"pause\");\n",
    "    return 0;\n",
    "}\n",
    "void try_(int x=1,int z,int y)\n",
    "{\n",
    "    NULL;\n",
    "}"
   ]
  },
  {
   "cell_type": "code",
   "execution_count": null,
   "metadata": {
    "vscode": {
     "languageId": "cpp"
    }
   },
   "outputs": [],
   "source": [
    "/*嵌套调用注意事项*/\n",
    "/*不能在函数内部定义函数，只能调用*/\n",
    "int main()\n",
    "{\n",
    "    int new()\n",
    "    {\n",
    "        return 1;//错误，不能在函数内部定义函数\n",
    "    }\n",
    "}"
   ]
  },
  {
   "cell_type": "code",
   "execution_count": null,
   "metadata": {
    "vscode": {
     "languageId": "cpp"
    }
   },
   "outputs": [],
   "source": [
    "/*重载函数注意事项*/\n",
    "/*函数的返回值类型不作为区分重载函数的一部分，只看参数类型或参数个数*/\n",
    "int Add(int a, int b) {\n",
    "    return a + b;\n",
    "}\n",
    "\n",
    "double Add(int a,int b) {//非法，必须是参数类型或参数个数不同\n",
    "    return a + b;\n",
    "}"
   ]
  },
  {
   "cell_type": "code",
   "execution_count": null,
   "metadata": {
    "vscode": {
     "languageId": "cpp"
    }
   },
   "outputs": [],
   "source": [
    "/*const与指针注意事项*/\n",
    "int a = 1;\n",
    "int b = 2;\n",
    "const int* p1 = &a;//修饰*p1\n",
    "int* const p2 = &a;//修饰p2\n",
    "\n",
    "1.指针常量（指针不可改，指针指向的对象可改）\n",
    "\n",
    "int a = 10;\n",
    "int b = 5;\n",
    "int * const p1 = &a;\n",
    "p1 = &b; //指针不可改，不合法\n",
    "*p1 = b; //指针指向的对象可改，合法\n",
    "\n",
    "2.常量指针（指针可改，指针指向的对象不可改）\n",
    "int a = 10;\n",
    "int b = 5;\n",
    "const int* p2 = &a;\n",
    "p2 = &b; //指针可改， 合法\n",
    "*p2 = b; //不合法\n"
   ]
  },
  {
   "cell_type": "code",
   "execution_count": null,
   "metadata": {
    "vscode": {
     "languageId": "cpp"
    }
   },
   "outputs": [],
   "source": [
    "/*堆栈全局区的区分*/\n",
    "int a = 0; //全局初始化区\n",
    "char *p1; //全局未初始化区\n",
    "main() {\n",
    "    int b; //栈\n",
    "    char s[] = \"abc\"; //栈\n",
    "    char *p2; //栈\n",
    "    char *p3 = \"123456\"; //123456\\0在常量区，p3在栈上。\n",
    "    static int c = 0; //全局（静态）初始化区\n",
    "    p1 = (char *)malloc(10);//p1在栈上，分配10字节的区域在堆区。\n",
    "    p2 = (char *)malloc(20);\n",
    "    //分配得来得10和20字节的区域就在堆区。\n",
    "    strcpy(p1, \"123456\"); //123456\\0放在常量区，编译器可能会将它与p3所指向的\"123456\"优化成一个地方。\n",
    "}"
   ]
  },
  {
   "cell_type": "code",
   "execution_count": null,
   "metadata": {
    "vscode": {
     "languageId": "git-commit"
    }
   },
   "outputs": [],
   "source": [
    "git config --global user.name \"注册名\"\n",
    "git config --global user.email \"注册邮箱\"\n",
    "ssh-keygen -t rsa -C \"自己的邮箱\"\n",
    "- 将生成的公钥添加到GitHub的SSH keys中\n",
    "ssh -T git@github.com   可能有报错\n",
    "- 验证成功\n",
    "\n",
    "git init\n",
    "git clone git@github.com:用户名/仓库名.git\n",
    "git add 文件夹1/ 文件夹2/\n",
    "git commit -m “注释”\n",
    "git checkout -b master    可能有报错\n",
    "git push -u origin master\n",
    "\n"
   ]
  },
  {
   "cell_type": "markdown",
   "metadata": {},
   "source": [
    "- 声明字符串 const char* str=或者const string str=;\n",
    "- auto ,static,extern(调用文件的变量加extern，被调用文件不加),register变量\n",
    "- int a[i]非法，数组大小不能动态定义\n",
    "- 递归：函数调用自身    递推：通过循环结构，自底向上逐步推导结果 迭代：重复执行某一操作？？？？\n",
    "- 基本数据类型有哪些 整数类型，浮点类型，布尔类型，字符类型，枚举类型，空类型，指针类型\n",
    "- 宏定义不用加分号，带参数的宏定义记得加括号以防万一\n",
    "\n"
   ]
  }
 ],
 "metadata": {
  "language_info": {
   "name": "python"
  }
 },
 "nbformat": 4,
 "nbformat_minor": 2
}
